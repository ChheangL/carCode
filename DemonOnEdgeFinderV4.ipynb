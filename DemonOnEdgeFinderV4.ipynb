{
 "cells": [
  {
   "cell_type": "code",
   "execution_count": 2,
   "metadata": {},
   "outputs": [],
   "source": [
    "import numpy as np\n",
    "from PIL import Image\n",
    "from ImageFrame import Frame\n",
    "from EdgeFinderV4 import BoundaryDetector as BD2\n",
    "import timeit\n",
    "import cv2 as cv\n",
    "import matplotlib.pylab as plt\n",
    "from concurrent.futures import ThreadPoolExecutor"
   ]
  },
  {
   "cell_type": "code",
   "execution_count": 3,
   "metadata": {},
   "outputs": [
    {
     "name": "stdout",
     "output_type": "stream",
     "text": [
      "load CVS file successfully\n"
     ]
    }
   ],
   "source": [
    "img = np.array(Image.open(\"TestingImage/Image3.jpg\"))\n",
    "img1 =Image.open(\"TestingImage/Image3.jpg\")\n",
    "frame1 = Frame(1280,720,10)"
   ]
  },
  {
   "cell_type": "code",
   "execution_count": 3,
   "metadata": {},
   "outputs": [],
   "source": [
    "kernal = np.array([-1,-1,0,1,1])\n",
    "steps = 0\n",
    "T_hold = 21\n",
    "point =np.empty([0])\n",
    "def sim_many_img(i):\n",
    "    img = np.array(Image.open(\"TestingImage/Image\"+str(i)+\".jpg\"))\n",
    "    t1=timeit.default_timer()\n",
    "    _ = BD2(img,kernal,frame1,steps,T_hold)\n",
    "    t2=timeit.default_timer()\n",
    "    print(f'runtime image#{i} = {t2-t1}')"
   ]
  },
  {
   "cell_type": "code",
   "execution_count": 4,
   "metadata": {},
   "outputs": [
    {
     "name": "stdout",
     "output_type": "stream",
     "text": [
      "runtime image#6 = 3.9762019000045257runtime image#2 = 4.051682400000573\n",
      "runtime image#4 = 3.9858041999978013\n",
      "runtime image#3 = 4.03011969999352\n",
      "runtime image#1 = 4.056360200003837\n",
      "runtime image#5 = 3.936892000005173\n",
      "\n",
      "runtime image#7 = 3.9225685999990674\n",
      "runtime image#0 = 4.08849210000335\n",
      "runtime image#8 = 0.007289699999091681\n",
      "runtime image#11 = 0.011739699999452569\n",
      "runtime image#13 = 0.031196099997032434\n",
      "runtime image#10 = 0.03025569999590516\n",
      "runtime image#9 = 0.004260000001522712\n",
      "runtime image#12 = 0.012134299999161158\n",
      "runtime image#14 = 0.0037603000018862076\n",
      "runtime image#15 = 0.04078420000587357\n",
      "runtime image#17 = 0.005838000004587229\n",
      "runtime image#23 = 0.004426199993758928\n",
      "runtime image#20 = 0.003913799999281764\n",
      "runtime image#22 = 0.020746000001963694\n",
      "runtime image#16 = 0.04391290000057779\n",
      "runtime image#21 = 0.006836299995484296\n",
      "runtime image#18 = 0.01531039999827044\n",
      "runtime image#19 = 0.023112999995646533\n",
      "runtime image#24 = 0.0015438000045833178\n",
      "runtime image#29 = 0.015007200003310572\n",
      "runtime image#30 = 0.005460000000311993\n",
      "runtime image#25 = 0.027776200004154816\n",
      "runtime image#31 = 0.023185399993963074\n",
      "runtime image#26 = 0.036685400002170354\n",
      "runtime image#34 = 0.003353299995069392\n",
      "runtime image#27 = 0.04623639999772422\n",
      "runtime image#28 = 0.03250269999989541\n",
      "runtime image#32 = 0.020038400005432777\n",
      "runtime image#33 = 0.009891599998809397\n",
      "runtime image#36 = 0.021258499997202307\n",
      "runtime image#37 = 0.016523799997230526\n",
      "runtime image#35 = 0.021363499996368773\n",
      "runtime image#39 = 0.010028699995018542\n",
      "runtime image#40 = 0.055878999999549706\n",
      "runtime image#42 = 0.015790200006449595\n",
      "runtime image#41 = 0.030809099996986333\n",
      "runtime image#43 = 0.0449981999990996\n",
      "runtime image#38 = 0.006733700000040699\n",
      "runtime image#44 = 0.0015192000064416789\n",
      "runtime image#45 = 0.02705720000085421\n",
      "runtime image#46 = 0.004118299999390729\n",
      "runtime image#47 = 0.005833300005178899\n",
      "runtime image#52 = 0.004791100000147708\n",
      "runtime image#49 = 0.002446900005452335runtime image#48 = 0.07607210000423947\n",
      "\n",
      "runtime image#50 = 0.025683700005174614\n",
      "runtime image#51 = 0.005639999995764811\n",
      "runtime image#56 = 0.002525600000808481\n",
      "runtime image#53 = 0.010058399995614309\n",
      "runtime image#55 = 0.02607749999879161\n",
      "runtime image#54 = 0.002143199999409262\n",
      "runtime image#57 = 0.0017310000039287843\n",
      "runtime image#58 = 0.040075099997920915\n",
      "runtime image#61 = 0.02176540000073146runtime image#64 = 0.014943700000003446\n",
      "runtime image#59 = 0.03096440000081202\n",
      "\n",
      "runtime image#62 = 0.0022427000003517605\n",
      "runtime image#63 = 0.002014099998632446\n",
      "runtime image#60 = 0.001631999999517575\n",
      "runtime image#65 = 0.005340000003343448\n",
      "runtime image#66 = 0.021172200002183672\n",
      "runtime image#67 = 0.018243799997435417\n",
      "runtime image#73 = 0.004519299996900372\n",
      "runtime image#70 = 0.01750259999971604\n",
      "runtime image#72 = 0.0019104000020888634\n",
      "runtime image#68 = 0.0035529999950085767\n",
      "runtime image#74 = 0.02687050000531599\n",
      "runtime image#69 = 0.05131779999646824\n",
      "runtime image#76 = 0.002209199999924749\n",
      "runtime image#79 = 0.0017755000008037314\n",
      "runtime image#75 = 0.035006400001293514\n",
      "runtime image#71 = 0.032649300002958626\n",
      "runtime image#78 = 0.00125790000311099\n",
      "runtime image#77 = 0.010308099997928366\n",
      "runtime image#80 = 0.004353200005425606\n",
      "runtime image#85 = 0.0026052000030176714runtime image#81 = 0.02066509999713162\n",
      "\n",
      "runtime image#82 = 0.0083569999987958\n",
      "runtime image#88 = 0.004192000000330154\n",
      "runtime image#84 = 0.05726970000250731\n",
      "runtime image#86 = 0.025608999996620696\n",
      "runtime image#83 = 0.0007958999995025806\n",
      "runtime image#87 = 0.02438659999461379\n",
      "runtime image#89 = 0.001640800001041498\n",
      "runtime image#90 = 0.009365000005345792\n",
      "runtime image#91 = 0.0021351000032154843\n",
      "runtime image#93 = 0.002730899999733083\n",
      "runtime image#94 = 0.007780599997204263runtime image#92 = 0.02727170000434853\n",
      "\n",
      "runtime image#97 = 0.0033868999962578528\n",
      "runtime image#96 = 0.006518599999253638\n",
      "runtime image#95 = 0.0009974999993573874\n",
      "runtime image#98 = 0.001578499999595806\n",
      "runtime image#99 = 0.002478200003679376\n",
      "CPU times: total: 8.94 s\n",
      "Wall time: 6.04 s\n"
     ]
    }
   ],
   "source": [
    "%%time\n",
    "from concurrent.futures import ThreadPoolExecutor\n",
    "with ThreadPoolExecutor(8) as ex:\n",
    "    ex.map(sim_many_img,range(100))"
   ]
  },
  {
   "cell_type": "code",
   "execution_count": 9,
   "metadata": {},
   "outputs": [
    {
     "name": "stdout",
     "output_type": "stream",
     "text": [
      "Our_method : max= 0.0039 min= 0.0015 average= 0.0022\n",
      "Canny_method : max= 0.0178 min= 0.0085 average= 0.0110\n",
      "Sobel_method : max= 0.0097 min= 0.0051 average= 0.0066\n"
     ]
    }
   ],
   "source": [
    "m1_time = np.empty([0,0])\n",
    "m2_time = np.empty([0,0])\n",
    "m3_time = np.empty([0,0])\n",
    "\n",
    "kernal = np.array([-1,-1,0,1,1])\n",
    "steps = 0\n",
    "T_hold = 75\n",
    "ddepth = cv.CV_16S\n",
    "\n",
    "for i in range(50):\n",
    "    img = np.array(Image.open(\"TestingImage/Image\"+str(i)+\".jpg\"))\n",
    "    img1 = cv.imread(\"TestingImage/Image\"+str(i)+\".jpg\")\n",
    "  \n",
    "\n",
    "    # Pre-process for Sobel algorithm\n",
    "\n",
    "    t1 = timeit.default_timer()\n",
    "    # Modified Edge detection algorithm\n",
    "    \n",
    "    B = BD2(img,kernal,frame1,steps,T_hold) \n",
    "\n",
    "    t2 = timeit.default_timer()\n",
    "    # Canny operator\n",
    "    c=cv.Canny(img1,100,200)\n",
    "    \n",
    "    t3 = timeit.default_timer()\n",
    "\n",
    "    # Sobel Operator\n",
    "    img3 = cv.GaussianBlur(img1,(3,3),0)\n",
    "    img2 = cv.cvtColor(img3,cv.COLOR_BGR2GRAY)\n",
    "    grad_x = cv.Sobel(img2, ddepth, 1, 0, ksize=3, scale=1, delta=0, borderType=cv.BORDER_DEFAULT)\n",
    "    grad_y = cv.Sobel(img2, ddepth, 0, 1, ksize=3, scale=1, delta=0, borderType=cv.BORDER_DEFAULT)\n",
    "    abs_grad_x = cv.convertScaleAbs(grad_x)\n",
    "    abs_grad_y = cv.convertScaleAbs(grad_y)\n",
    "    grad = cv.addWeighted(abs_grad_x, 0.5, abs_grad_y, 0.5, 0)\n",
    "    t4 = timeit.default_timer()\n",
    "\n",
    "    \n",
    "    #B.ploting_onImage(img,str(i)+\" \\n our_method:\"+str(np.round(t2-t1,4))+\"s\\n Canny:\"+str(np.round(t3-t2,4))+\"s\")\n",
    "    #plt.show()\n",
    "\n",
    "\n",
    "    m1_time = np.append(m1_time,t2-t1)\n",
    "    m2_time = np.append(m2_time,t3-t2)\n",
    "    m3_time = np.append(m3_time,t4-t3)\n",
    "\n",
    "\n",
    "#printing statistic for both method\n",
    "print(f'Our_method : max={np.max(m1_time): .4f} min={np.min(m1_time): .4f} average={np.average(m1_time): .4f}')\n",
    "print(f'Canny_method : max={np.max(m2_time): .4f} min={np.min(m2_time): .4f} average={np.average(m2_time): .4f}')\n",
    "print(f'Sobel_method : max={np.max(m3_time): .4f} min={np.min(m3_time): .4f} average={np.average(m3_time): .4f}')"
   ]
  }
 ],
 "metadata": {
  "kernelspec": {
   "display_name": "Python 3",
   "language": "python",
   "name": "python3"
  },
  "language_info": {
   "codemirror_mode": {
    "name": "ipython",
    "version": 3
   },
   "file_extension": ".py",
   "mimetype": "text/x-python",
   "name": "python",
   "nbconvert_exporter": "python",
   "pygments_lexer": "ipython3",
   "version": "3.10.8"
  },
  "orig_nbformat": 4,
  "vscode": {
   "interpreter": {
    "hash": "fb6640f683fe3c2e0167d4fdf8a524550be8862d3e31263a3a7301ff5230fda0"
   }
  }
 },
 "nbformat": 4,
 "nbformat_minor": 2
}
