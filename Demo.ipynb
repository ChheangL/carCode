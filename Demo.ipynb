{
 "cells": [
  {
   "cell_type": "code",
   "execution_count": null,
   "id": "67b78d76",
   "metadata": {},
   "outputs": [],
   "source": [
    "from auto_drive_functions import retrieve_angle\n",
    "from PIL import Image,ImageOps,ImageFilter\n",
    "from ImageFrame import Frame\n",
    "#import timeit as ti\n",
    "#import numpy as np\n",
    "#import matplotlib.pyplot as plt\n",
    "from pylab import *\n",
    "from EdgeFinderV2 import EdgeFinder as ef "
   ]
  },
  {
   "cell_type": "code",
   "execution_count": null,
   "id": "aba29ca1",
   "metadata": {
    "scrolled": false
   },
   "outputs": [],
   "source": [
    "frame1 = Frame(640,480,10)\n",
    "img = Image.open(\"image/img21.jpg\")\n"
   ]
  },
  {
   "cell_type": "code",
   "execution_count": null,
   "id": "96430fc2",
   "metadata": {},
   "outputs": [],
   "source": [
    "for i in range(20,25):\n",
    "    img = Image.open(\"image/img\"+str(i)+\".jpg\")\n",
    "    imshow(img)\n",
    "    plt.show()\n",
    "    points, midpoint, angle = retrieve_angle(50,3,15,2,img,frame1)\n",
    "    print(midpoint)"
   ]
  },
  {
   "cell_type": "code",
   "execution_count": null,
   "id": "4a563134",
   "metadata": {},
   "outputs": [],
   "source": [
    "print(angle)"
   ]
  },
  {
   "cell_type": "code",
   "execution_count": null,
   "id": "3f03c455",
   "metadata": {},
   "outputs": [],
   "source": [
    "img = Image.open(\"image/img21.jpg\")\n",
    "data = frame1.get_data(img,2)\n",
    "edge = ef(50,3,15,data)\n"
   ]
  },
  {
   "cell_type": "code",
   "execution_count": null,
   "metadata": {},
   "outputs": [],
   "source": [
    "points = np.empty([0,2],int)\n",
    "for i in range(0,4,2):\n",
    "    if edge.BND[i] != 0 and edge.BND[i+1]!=0 : \n",
    "        points= np.append(points,[frame1.fline[str(i+1)][int(edge.BND[i])]],axis=0)\n",
    "        points= np.append(points,[frame1.fline[str(i+2)][int(edge.BND[i+1])]],axis=0)\n",
    "\n",
    "print(points.shape)\n",
    "\n"
   ]
  },
  {
   "cell_type": "code",
   "execution_count": null,
   "id": "4aec5e0f",
   "metadata": {},
   "outputs": [],
   "source": [
    "points = np.array([frame1.fline[key][int(edge.BND[int(key)-1])] for key in frame1.fline.keys() if edge.BND[int(key)-1]!=0])[0:4]\n",
    "points"
   ]
  },
  {
   "cell_type": "code",
   "execution_count": null,
   "id": "7bcb188e",
   "metadata": {},
   "outputs": [],
   "source": [
    "points[0]\n",
    "points[2]-points[0]"
   ]
  },
  {
   "cell_type": "code",
   "execution_count": null,
   "id": "5d335072",
   "metadata": {},
   "outputs": [],
   "source": [
    "\n",
    "imshow(img)\n",
    "for key in frame1.fline.keys():\n",
    "    plt.plot(frame1.fline[key][:,0],frame1.fline[key][:,1],'k:')\n",
    "    plt.plot(points[:,0],points[:,1],'ro')"
   ]
  }
 ],
 "metadata": {
  "kernelspec": {
   "display_name": "Python 3 (ipykernel)",
   "language": "python",
   "name": "python3"
  },
  "language_info": {
   "codemirror_mode": {
    "name": "ipython",
    "version": 3
   },
   "file_extension": ".py",
   "mimetype": "text/x-python",
   "name": "python",
   "nbconvert_exporter": "python",
   "pygments_lexer": "ipython3",
   "version": "3.9.7"
  }
 },
 "nbformat": 4,
 "nbformat_minor": 5
}
