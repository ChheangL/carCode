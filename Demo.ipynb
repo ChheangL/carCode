{
 "cells": [
  {
   "cell_type": "code",
   "execution_count": 1,
   "id": "d221736a",
   "metadata": {},
   "outputs": [],
   "source": [
    "from auto_drive_functions import retrieve_angle \n",
    "from PIL import Image\n",
    "from ImageFrame import Frame"
   ]
  },
  {
   "cell_type": "code",
   "execution_count": 2,
   "id": "3930fff2",
   "metadata": {},
   "outputs": [],
   "source": [
    "img = Image.open('road1.jpg')"
   ]
  },
  {
   "cell_type": "code",
   "execution_count": 3,
   "id": "4ffdded4",
   "metadata": {},
   "outputs": [
    {
     "name": "stdout",
     "output_type": "stream",
     "text": [
      "load CVS file successfully\n"
     ]
    }
   ],
   "source": [
    "frame1 = Frame(1000,667,15)"
   ]
  },
  {
   "cell_type": "code",
   "execution_count": 4,
   "id": "41dc4abf",
   "metadata": {},
   "outputs": [],
   "source": [
    "data = frame1.get_data(img,5)"
   ]
  },
  {
   "cell_type": "code",
   "execution_count": 5,
   "id": "5ff01d1b",
   "metadata": {},
   "outputs": [
    {
     "name": "stdout",
     "output_type": "stream",
     "text": [
      "{'L1': 16, 'L2': 23, 'L3': 29, 'L4': 42, 'L5': 37, 'L6': 26, 'L7': 22, 'L8': 10, 'L9': 17, 'L10': 23, 'L11': 18}\n",
      "[]\n",
      "found\n",
      "found\n",
      "found\n",
      "found\n",
      "found\n",
      "found\n",
      "found\n",
      "found\n",
      "found\n",
      "found\n",
      "found\n"
     ]
    }
   ],
   "source": [
    "angle = retrieve_angle(10,5,img,frame1)"
   ]
  },
  {
   "cell_type": "code",
   "execution_count": 6,
   "id": "3538aa41",
   "metadata": {},
   "outputs": [
    {
     "name": "stdout",
     "output_type": "stream",
     "text": [
      "[89.26232686 90.         90.78153089 91.87327433 90.4826826 ]\n"
     ]
    }
   ],
   "source": [
    "print(angle)"
   ]
  }
 ],
 "metadata": {
  "kernelspec": {
   "display_name": "Python 3",
   "language": "python",
   "name": "python3"
  },
  "language_info": {
   "codemirror_mode": {
    "name": "ipython",
    "version": 3
   },
   "file_extension": ".py",
   "mimetype": "text/x-python",
   "name": "python",
   "nbconvert_exporter": "python",
   "pygments_lexer": "ipython3",
   "version": "3.8.10"
  }
 },
 "nbformat": 4,
 "nbformat_minor": 5
}
