{
 "cells": [
  {
   "cell_type": "code",
   "execution_count": 2,
   "id": "67b78d76",
   "metadata": {},
   "outputs": [],
   "source": [
    "from auto_drive_functions import retrieve_angle \n",
    "from PIL import Image\n",
    "from ImageFrame import Frame\n",
    "import timeit as ti"
   ]
  },
  {
   "cell_type": "code",
   "execution_count": 3,
   "id": "e4118fa7",
   "metadata": {},
   "outputs": [],
   "source": [
    "img = Image.open('road1.jpg')"
   ]
  },
  {
   "cell_type": "code",
   "execution_count": 4,
   "id": "aba29ca1",
   "metadata": {},
   "outputs": [
    {
     "name": "stdout",
     "output_type": "stream",
     "text": [
      "load CVS file successfully\n"
     ]
    }
   ],
   "source": [
    "frame1 = Frame(1000,667,15)"
   ]
  },
  {
   "cell_type": "code",
   "execution_count": 5,
   "id": "3777125e",
   "metadata": {},
   "outputs": [],
   "source": [
    "data = frame1.get_data(img,5)"
   ]
  },
  {
   "cell_type": "code",
   "execution_count": 12,
   "id": "9b1a25ec",
   "metadata": {
    "scrolled": true
   },
   "outputs": [
    {
     "name": "stdout",
     "output_type": "stream",
     "text": [
      "0.08925612499933777\n"
     ]
    }
   ],
   "source": [
    "starttime = ti.default_timer()\n",
    "angle = retrieve_angle(170,5,img,frame1)\n",
    "print(ti.default_timer()-starttime)"
   ]
  },
  {
   "cell_type": "code",
   "execution_count": 6,
   "id": "0b854209",
   "metadata": {},
   "outputs": [
    {
     "name": "stdout",
     "output_type": "stream",
     "text": [
      "[127.04247477  90.11813546]\n"
     ]
    }
   ],
   "source": [
    "print(angle)"
   ]
  }
 ],
 "metadata": {
  "kernelspec": {
   "display_name": "Python 3",
   "language": "python",
   "name": "python3"
  },
  "language_info": {
   "codemirror_mode": {
    "name": "ipython",
    "version": 3
   },
   "file_extension": ".py",
   "mimetype": "text/x-python",
   "name": "python",
   "nbconvert_exporter": "python",
   "pygments_lexer": "ipython3",
   "version": "3.8.10"
  }
 },
 "nbformat": 4,
 "nbformat_minor": 5
}
