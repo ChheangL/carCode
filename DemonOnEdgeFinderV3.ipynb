{
 "cells": [
  {
   "cell_type": "code",
   "execution_count": 1,
   "metadata": {},
   "outputs": [],
   "source": [
    "from EdgeFinderV3 import BoundaryDetector as BD\n",
    "from EdgeFinderV2 import EdgeFinder as ef\n",
    "from PIL import Image\n",
    "from ImageFrame import Frame\n",
    "import numpy as np\n",
    "import timeit"
   ]
  },
  {
   "cell_type": "code",
   "execution_count": 2,
   "metadata": {},
   "outputs": [
    {
     "name": "stdout",
     "output_type": "stream",
     "text": [
      "load CVS file successfully\n"
     ]
    }
   ],
   "source": [
    "#creating frame and importing image\n",
    "frame1 = Frame(1280,720,10)\n",
    "img = Image.open(\"TestingImage/Image\"+str(1)+\".jpg\")\n",
    "#applying the masks to the image\n",
    "data = frame1.get_data(img,0)"
   ]
  },
  {
   "cell_type": "code",
   "execution_count": 3,
   "metadata": {},
   "outputs": [
    {
     "name": "stdout",
     "output_type": "stream",
     "text": [
      "Image50: Old_Method time =  0.088, New_Method time =  0.007\n",
      "Image51: Old_Method time =  0.063, New_Method time =  0.006\n",
      "Image52: Old_Method time =  0.126, New_Method time =  0.010\n",
      "Image53: Old_Method time =  0.092, New_Method time =  0.108\n",
      "Image54: Old_Method time =  0.225, New_Method time =  0.008\n",
      "Image55: Old_Method time =  0.045, New_Method time =  0.007\n",
      "Image56: Old_Method time =  0.048, New_Method time =  0.009\n",
      "Image57: Old_Method time =  0.051, New_Method time =  0.009\n",
      "Image58: Old_Method time =  0.053, New_Method time =  0.005\n",
      "Image59: Old_Method time =  0.059, New_Method time =  0.003\n",
      "Image60: Old_Method time =  0.044, New_Method time =  0.006\n",
      "Image61: Old_Method time =  0.061, New_Method time =  0.004\n",
      "Image62: Old_Method time =  0.063, New_Method time =  0.008\n",
      "Image63: Old_Method time =  0.034, New_Method time =  0.003\n",
      "Image64: Old_Method time =  0.051, New_Method time =  0.014\n",
      "Image65: Old_Method time =  0.092, New_Method time =  0.011\n",
      "Image66: Old_Method time =  0.047, New_Method time =  0.004\n",
      "Image67: Old_Method time =  0.051, New_Method time =  0.005\n",
      "Image68: Old_Method time =  0.075, New_Method time =  0.005\n",
      "Image69: Old_Method time =  0.051, New_Method time =  0.011\n",
      "Image70: Old_Method time =  0.066, New_Method time =  0.008\n",
      "Image71: Old_Method time =  0.057, New_Method time =  0.004\n",
      "Image72: Old_Method time =  0.071, New_Method time =  0.008\n",
      "Image73: Old_Method time =  0.058, New_Method time =  0.006\n",
      "Image74: Old_Method time =  0.066, New_Method time =  0.009\n",
      "Image75: Old_Method time =  0.038, New_Method time =  0.003\n",
      "Image76: Old_Method time =  0.042, New_Method time =  0.004\n",
      "Image77: Old_Method time =  0.051, New_Method time =  0.003\n",
      "Image78: Old_Method time =  0.045, New_Method time =  0.004\n",
      "Image79: Old_Method time =  0.043, New_Method time =  0.005\n",
      "Image80: Old_Method time =  0.050, New_Method time =  0.004\n",
      "Image81: Old_Method time =  0.038, New_Method time =  0.001\n",
      "Image82: Old_Method time =  0.032, New_Method time =  0.001\n",
      "Image83: Old_Method time =  0.037, New_Method time =  0.003\n",
      "Image84: Old_Method time =  0.036, New_Method time =  0.003\n",
      "Image85: Old_Method time =  0.034, New_Method time =  0.004\n",
      "Image86: Old_Method time =  0.040, New_Method time =  0.005\n",
      "Image87: Old_Method time =  0.043, New_Method time =  0.003\n",
      "Image88: Old_Method time =  0.038, New_Method time =  0.004\n",
      "Image89: Old_Method time =  0.055, New_Method time =  0.004\n",
      "Image90: Old_Method time =  0.033, New_Method time =  0.003\n",
      "old_method : max= 0.225 min= 0.032 average= 0.058\n",
      "new_method : max= 0.108 min= 0.001 average= 0.008\n"
     ]
    }
   ],
   "source": [
    "m1_time = np.empty([0,0])\n",
    "m2_time = np.empty([0,0])\n",
    "\n",
    "for i in range(50,91):\n",
    "    img = Image.open(\"TestingImage/Image\"+str(i)+\".jpg\")\n",
    "    #applying the masks to the image\n",
    "    data = frame1.get_data(img,0)\n",
    "    \n",
    "    #Creating kernal\n",
    "    kernal = np.array([-1,-1,0,1,1])\n",
    "\n",
    "    t1 = timeit.default_timer()                 #timer point 1\n",
    "    Method_1 = ef(s1=50,h1=4, hd=5,Data=data)   #Old method with s1 50 and h1 4 and hd =5\n",
    "    t2 = timeit.default_timer()                 #timer point 2\n",
    "    Method_2 = BD(data,kernal,frame1,0,25)      #New method (0 is steps (move), 25 is threshold)\n",
    "    t3 = timeit.default_timer()                 #timer point 3\n",
    "    \n",
    "    print(f'Image{i}: Old_Method time = {t2-t1: .3f}, New_Method time = {t3-t2 : .3f}')\n",
    "    m1_time = np.append(m1_time,t2-t1)          #storing time method 1\n",
    "    m2_time = np.append(m2_time,t3-t2)          #storing time method 2\n",
    "\n",
    "    #points.ploting_onImage(img,id=i)\n",
    "    #points.ploting_onGraph()\n",
    "\n",
    "#printing statistic for both method\n",
    "print(f'old_method : max={np.max(m1_time): .3f} min={np.min(m1_time): .3f} average={np.average(m1_time): .3f}')\n",
    "print(f'new_method : max={np.max(m2_time): .3f} min={np.min(m2_time): .3f} average={np.average(m2_time): .3f}')"
   ]
  }
 ],
 "metadata": {
  "kernelspec": {
   "display_name": "Python 3",
   "language": "python",
   "name": "python3"
  },
  "language_info": {
   "codemirror_mode": {
    "name": "ipython",
    "version": 3
   },
   "file_extension": ".py",
   "mimetype": "text/x-python",
   "name": "python",
   "nbconvert_exporter": "python",
   "pygments_lexer": "ipython3",
   "version": "3.10.8"
  },
  "orig_nbformat": 4
 },
 "nbformat": 4,
 "nbformat_minor": 2
}
