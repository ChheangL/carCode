{
 "cells": [
  {
   "cell_type": "code",
   "execution_count": 1,
   "metadata": {},
   "outputs": [],
   "source": [
    "from EdgeFinderV3 import BoundaryDetector as BD\n",
    "from EdgeFinderV2 import EdgeFinder as ef\n",
    "from PIL import Image\n",
    "from ImageFrame import Frame\n",
    "import numpy as np\n",
    "import timeit"
   ]
  },
  {
   "cell_type": "code",
   "execution_count": 2,
   "metadata": {},
   "outputs": [
    {
     "name": "stdout",
     "output_type": "stream",
     "text": [
      "load CVS file successfully\n"
     ]
    }
   ],
   "source": [
    "#creating frame and importing image\n",
    "frame1 = Frame(1280,720,10)\n",
    "img = Image.open(\"TestingImage/Image\"+str(1)+\".jpg\")\n",
    "#applying the masks to the image\n",
    "data = frame1.get_data(img,0)"
   ]
  },
  {
   "cell_type": "code",
   "execution_count": 5,
   "metadata": {},
   "outputs": [
    {
     "name": "stdout",
     "output_type": "stream",
     "text": [
      "old_method : max= 0.043 min= 0.021 average= 0.024\n",
      "new_method : max= 0.006 min= 0.001 average= 0.002\n"
     ]
    }
   ],
   "source": [
    "m1_time = np.empty([0,0])\n",
    "m2_time = np.empty([0,0])\n",
    "\n",
    "for i in range(50,90):\n",
    "    img = Image.open(\"TestingImage/Image\"+str(i)+\".jpg\")\n",
    "    #applying the masks to the image\n",
    "    data = frame1.get_data(img,0)\n",
    "    \n",
    "    #Creating kernal\n",
    "    kernal = np.array([-1,-1,0,1,1])\n",
    "\n",
    "    t1 = timeit.default_timer()                 #timer point 1\n",
    "    Method_1 = ef(s1=50,h1=4, hd=5,Data=data)   #Old method with s1 50 and h1 4 and hd =5\n",
    "    t2 = timeit.default_timer()                 #timer point 2\n",
    "    Method_2 = BD(data,kernal,frame1,0,25)      #New method (0 is steps (move), 25 is threshold)\n",
    "    t3 = timeit.default_timer()                 #timer point 3\n",
    "    \n",
    "    #print(f'Image{i}: Old_Method time = {t2-t1: .3f}, New_Method time = {t3-t2 : .3f}')\n",
    "    m1_time = np.append(m1_time,t2-t1)          #storing time method 1\n",
    "    m2_time = np.append(m2_time,t3-t2)          #storing time method 2\n",
    "\n",
    "    #Method_2.ploting_onImage(img,id=i)\n",
    "    #Method_2.ploting_onGraph()\n",
    "\n",
    "#printing statistic for both method\n",
    "print(f'old_method : max={np.max(m1_time): .3f} min={np.min(m1_time): .3f} average={np.average(m1_time): .3f}')\n",
    "print(f'new_method : max={np.max(m2_time): .3f} min={np.min(m2_time): .3f} average={np.average(m2_time): .3f}')"
   ]
  },
  {
   "cell_type": "markdown",
   "metadata": {},
   "source": []
  },
  {
   "cell_type": "markdown",
   "metadata": {},
   "source": []
  }
 ],
 "metadata": {
  "kernelspec": {
   "display_name": "Python 3",
   "language": "python",
   "name": "python3"
  },
  "language_info": {
   "codemirror_mode": {
    "name": "ipython",
    "version": 3
   },
   "file_extension": ".py",
   "mimetype": "text/x-python",
   "name": "python",
   "nbconvert_exporter": "python",
   "pygments_lexer": "ipython3",
   "version": "3.10.8"
  },
  "orig_nbformat": 4,
  "vscode": {
   "interpreter": {
    "hash": "fb6640f683fe3c2e0167d4fdf8a524550be8862d3e31263a3a7301ff5230fda0"
   }
  }
 },
 "nbformat": 4,
 "nbformat_minor": 2
}
