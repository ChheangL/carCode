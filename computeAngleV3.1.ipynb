{
 "cells": [
  {
   "cell_type": "code",
   "execution_count": null,
   "metadata": {},
   "outputs": [],
   "source": [
    "import numpy as np\n",
    "from EdgeFinderV4 import BoundaryDetector as BD\n",
    "from ImageFrame import Frame\n",
    "from PIL import Image\n",
    "import timeit"
   ]
  },
  {
   "cell_type": "code",
   "execution_count": null,
   "metadata": {},
   "outputs": [],
   "source": [
    "frame1 = Frame(1280,720,10)\n",
    "img = np.array(Image.open(\"TestingImage/Image\"+str(1)+\".jpg\"))\n",
    "BP = BD(img,np.array([-1,-1,0,1,1]),frame1,0,25)\n",
    "BP.ploting_onImage(img) \n",
    "print(BP.boundary)\n",
    "print(BP.boundary.shape)"
   ]
  },
  {
   "cell_type": "code",
   "execution_count": null,
   "metadata": {},
   "outputs": [],
   "source": [
    "p = BP.boundary"
   ]
  },
  {
   "cell_type": "code",
   "execution_count": null,
   "metadata": {},
   "outputs": [],
   "source": [
    "emptyArray = np.zeros_like(p)\n",
    "j=0\n",
    "for i in range(0,p[:,0].size,2):\n",
    "    if np.any(p[i]) and np.any(p[i+1]):\n",
    "        emptyArray[j] = p[i]\n",
    "        emptyArray[j+1] = p[i+1]\n",
    "        j += 2\n",
    "    if j >= 6 : \n",
    "        check = vector_check1(emptyArray,j)\n",
    "    if not np.isnan(check)[0]:\n",
    "        print('not side')\n",
    "    mid_points = mid_angle(emptyArray,frame1.width,j)\n",
    "print(emptyArray)\n",
    "print(j/2)\n",
    "print(check)\n"
   ]
  },
  {
   "cell_type": "code",
   "execution_count": null,
   "metadata": {},
   "outputs": [],
   "source": [
    "def vector_check1(points,n):\n",
    "    if n >= 4:\n",
    "        points[:,1]= 720- points[:,1]\n",
    "        vector1 = points[2] - points[0]\n",
    "        vector2 = points[3] - points[1]\n",
    "        if (vector1[1] * vector1[0] > 0) and (vector2[1] * vector2[0] > 0) or (vector1[1] * vector1[0] < 0) and (vector2[0] * vector2[1]<0):\n",
    "            #Should turn Right or right\n",
    "            radians = np.array([np.arctan(vector1[0]/vector1[1]),np.atan(vector2[0]/vector2[1])])\n",
    "            #return in degree\n",
    "            previous_angle= np.degrees(radians)\n",
    "            print(\"Vector Check1 : \", previous_angle)\n",
    "            return previous_angle\n",
    "        else :\n",
    "            #not a side\n",
    "            return np.array([np.NaN,np.NaN])"
   ]
  },
  {
   "cell_type": "code",
   "execution_count": null,
   "metadata": {},
   "outputs": [],
   "source": [
    "def mid_angle(data,width,n):\n",
    "    angles1 = np.zeros([3,1])\n",
    "    angles2 = np.zeros([2,1])\n",
    "\n",
    "    mids = np.zeros((3,2),float)\n",
    "    for i in range (0, n,2):                #interation through every pairs\n",
    "        mid = (data[i] + data[i+1])/2       #Get the mid points\n",
    "        tan = (mid[0]-(width/2.))/(mid[1])  #angle of the mids points\n",
    "        angle_radiant = np.arctan(tan)\n",
    "        angle_degree = np.degrees(angle_radiant)\n",
    "        mids[i/2] = mid\n",
    "        angles1[i/2]= angle_degree\n",
    "    for i in range(1,np.count_nonzero(mids[:,0])+1):\n",
    "        angle_degree = np.degrees(np.arctan((mids[i,0]-(mids[0,0]))/(mids[i,1]-mids[0,1])))\n",
    "        angles2[i-1]= angle_degree\n",
    "    return [angles1,angles2],mids"
   ]
  },
  {
   "cell_type": "code",
   "execution_count": null,
   "metadata": {},
   "outputs": [],
   "source": [
    "a = np.array([[1,1],[2,2],[0,0]])\n",
    "\n",
    "np.count_nonzero(a[:,0])"
   ]
  }
 ],
 "metadata": {
  "kernelspec": {
   "display_name": "Python 3",
   "language": "python",
   "name": "python3"
  },
  "language_info": {
   "codemirror_mode": {
    "name": "ipython",
    "version": 3
   },
   "file_extension": ".py",
   "mimetype": "text/x-python",
   "name": "python",
   "nbconvert_exporter": "python",
   "pygments_lexer": "ipython3",
   "version": "3.10.8"
  },
  "orig_nbformat": 4,
  "vscode": {
   "interpreter": {
    "hash": "fb6640f683fe3c2e0167d4fdf8a524550be8862d3e31263a3a7301ff5230fda0"
   }
  }
 },
 "nbformat": 4,
 "nbformat_minor": 2
}
