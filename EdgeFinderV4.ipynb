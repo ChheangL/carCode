{
 "cells": [
  {
   "cell_type": "code",
   "execution_count": null,
   "metadata": {},
   "outputs": [],
   "source": [
    "import numpy as np\n",
    "from PIL import Image\n",
    "from ImageFrame import Frame\n",
    "from EdgeFinderV4 import BoundaryDetector as BD2\n",
    "import timeit\n",
    "import cv2 as cv\n",
    "from numba import njit"
   ]
  },
  {
   "cell_type": "code",
   "execution_count": null,
   "metadata": {},
   "outputs": [],
   "source": [
    "img = np.array(Image.open(\"TestingImage/Image3.jpg\"))\n",
    "img1 =Image.open(\"TestingImage/Image3.jpg\")\n",
    "frame1 = Frame(1280,720,10)"
   ]
  },
  {
   "cell_type": "code",
   "execution_count": null,
   "metadata": {},
   "outputs": [],
   "source": [
    "kernal = np.array([-1,-1,0,1,1])\n",
    "steps = 0\n",
    "offset = (img[0].size-9)%(kernal.size+steps)\n",
    "T_hold = 21"
   ]
  },
  {
   "cell_type": "code",
   "execution_count": null,
   "metadata": {},
   "outputs": [],
   "source": [
    "for i in range(50):\n",
    "    img = np.array(Image.open(\"TestingImage/Image\"+str(i)+\".jpg\"))\n",
    "    t1 = timeit.default_timer()\n",
    "    B = BD2(img,kernal,frame1,steps,T_hold)\n",
    "    t2 = timeit.default_timer()\n",
    "    B.ploting_onImage(img,t2-t1)"
   ]
  },
  {
   "cell_type": "code",
   "execution_count": null,
   "metadata": {},
   "outputs": [],
   "source": [
    "kernal = np.array([-1,-1,0,1,1])\n",
    "steps = 0\n",
    "offset = (img[0].size-9)%(kernal.size+steps)\n",
    "T_hold = 21\n",
    "points = np.empty([0,2])\n",
    "\n",
    "t1 = timeit.default_timer()\n",
    "for i,fline in enumerate(frame1.fline.values()):\n",
    "    detection = False\n",
    "    for t in range(20,fline.shape[0]-offset,kernal.size+steps):\n",
    "        #for x,y in fline[t:t+kernal.size]:\n",
    "         #   datas_segment = np.append(datas_segment,img[y,x,0])\n",
    "        #dot_result = kernal.dot(datas_segment)\n",
    "        #dot_result = kernal.dot([img[y,x,0] for x,y in fline[t:t+kernal.size]])\n",
    "        #print(dot_result)\n",
    "        if np.abs(kernal.dot([img[y,x,0] for x,y in fline[t:t+kernal.size]])) > T_hold:\n",
    "            #print(t)\n",
    "            points=np.append(points,[fline[t]],axis=0)\n",
    "            #boundary_index += [t]\n",
    "            detection = True\n",
    "            break\n",
    "    if not detection:\n",
    "        points=np.append(points,[[0,0]],axis=0)\n",
    "        #boundary_index += [0]\n",
    "        detection = False\n",
    "t2 = timeit.default_timer()\n",
    "print(f'time is {t2-t1}')"
   ]
  },
  {
   "cell_type": "code",
   "execution_count": null,
   "metadata": {},
   "outputs": [],
   "source": [
    "print(points)"
   ]
  },
  {
   "cell_type": "code",
   "execution_count": null,
   "metadata": {},
   "outputs": [],
   "source": [
    "data = frame1.get_data(img1,0)\n",
    "\n",
    "%timeit B =BD(data,kernal,frame1,steps,T_hold)\n"
   ]
  },
  {
   "cell_type": "code",
   "execution_count": null,
   "metadata": {},
   "outputs": [],
   "source": [
    "frame1_values =np.array(list(frame1.fline.values()))"
   ]
  },
  {
   "cell_type": "code",
   "execution_count": null,
   "metadata": {},
   "outputs": [],
   "source": [
    "def boundary_function(img,offset,kernal,frame1_values,steps,T_hold,sp):\n",
    "    points = np.zeros_like(sp)\n",
    "    for i,fline in enumerate(frame1_values):    \n",
    "        detection = False\n",
    "        for t in range(20,fline.shape[0]-offset,kernal.size+steps):\n",
    "            if np.abs(np.sum(kernal*np.array([img[y,x,0] for x,y in fline[t:t+kernal.size]]))) > T_hold:\n",
    "                #print(t)\n",
    "                points[i]= fline[t]\n",
    "                #boundary_index += [t]\n",
    "                detection = True\n",
    "                break\n",
    "        if not detection:\n",
    "            points = np.array([0,0])\n",
    "            #boundary_index += [0]\n",
    "            detection = False\n",
    "    return points"
   ]
  },
  {
   "cell_type": "code",
   "execution_count": null,
   "metadata": {},
   "outputs": [],
   "source": [
    "kernal = np.array([-1,-1,0,1,1],np.int64)"
   ]
  },
  {
   "cell_type": "code",
   "execution_count": null,
   "metadata": {},
   "outputs": [],
   "source": [
    "\n",
    "b= boundary_function(img,offset,kernal,frame1_values,steps,T_hold,np.empty([8,2]))\n",
    "print(b)"
   ]
  },
  {
   "cell_type": "code",
   "execution_count": null,
   "metadata": {},
   "outputs": [],
   "source": [
    "functioned_jit = njit()(boundary_function)"
   ]
  },
  {
   "cell_type": "code",
   "execution_count": null,
   "metadata": {},
   "outputs": [],
   "source": [
    "b2 = functioned_jit(img,offset,kernal,frame1_values,steps,T_hold,np.empty([8,2]))\n",
    "print(b2)"
   ]
  },
  {
   "cell_type": "code",
   "execution_count": null,
   "metadata": {},
   "outputs": [],
   "source": [
    "open_img = cv.imread(\"TestingImage/Image3.jpg\")\n",
    "%timeit dst = cv.Canny(open_img, 100, 200, None, 3)"
   ]
  }
 ],
 "metadata": {
  "kernelspec": {
   "display_name": "Python 3",
   "language": "python",
   "name": "python3"
  },
  "language_info": {
   "codemirror_mode": {
    "name": "ipython",
    "version": 3
   },
   "file_extension": ".py",
   "mimetype": "text/x-python",
   "name": "python",
   "nbconvert_exporter": "python",
   "pygments_lexer": "ipython3",
   "version": "3.10.8"
  },
  "orig_nbformat": 4,
  "vscode": {
   "interpreter": {
    "hash": "fb6640f683fe3c2e0167d4fdf8a524550be8862d3e31263a3a7301ff5230fda0"
   }
  }
 },
 "nbformat": 4,
 "nbformat_minor": 2
}
