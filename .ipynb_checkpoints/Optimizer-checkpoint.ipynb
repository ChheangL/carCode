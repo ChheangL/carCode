{
 "cells": [
  {
   "cell_type": "code",
   "execution_count": 1,
   "id": "a2a7bbe8",
   "metadata": {},
   "outputs": [],
   "source": [
    "#Importing file\n",
    "import numpy as np\n",
    "import math \n",
    "from ImageFrame import Frame\n",
    "from EdgeFinderV2 import EdgeFinder as ef\n",
    "#from picamera import PiCamera\n"
   ]
  },
  {
   "cell_type": "code",
   "execution_count": 2,
   "id": "4fd122a1",
   "metadata": {},
   "outputs": [
    {
     "name": "stdout",
     "output_type": "stream",
     "text": [
      "loaded image\n"
     ]
    },
    {
     "data": {
      "text/plain": [
       "(720, 1280)"
      ]
     },
     "execution_count": 2,
     "metadata": {},
     "output_type": "execute_result"
    }
   ],
   "source": [
    "#for captureing image or get the image\n",
    "import cv2 as cv\n",
    "filename = \"TestingImage/Image5.jpg\"\n",
    "img = cv.imread(filename)\n",
    "img = img[:,:,0]\n",
    "print(\"loaded image\")\n",
    "img.shape #image with row of 720 and 1280 column and 3 channels"
   ]
  },
  {
   "cell_type": "code",
   "execution_count": 3,
   "id": "1ec9bf01",
   "metadata": {},
   "outputs": [
    {
     "name": "stdout",
     "output_type": "stream",
     "text": [
      "load CVS file successfully\n",
      "CPU times: total: 0 ns\n",
      "Wall time: 32.6 ms\n"
     ]
    },
    {
     "data": {
      "text/plain": [
       "(640, 2)"
      ]
     },
     "execution_count": 3,
     "metadata": {},
     "output_type": "execute_result"
    }
   ],
   "source": [
    "#preparing the frame\n",
    "%time frame1 = Frame(1280,720,10)\n",
    "frame1.fline['1'].shape"
   ]
  },
  {
   "cell_type": "code",
   "execution_count": 58,
   "id": "96c2a794",
   "metadata": {
    "scrolled": true
   },
   "outputs": [
    {
     "name": "stdout",
     "output_type": "stream",
     "text": [
      "564 ms ± 58.9 ms per loop (mean ± std. dev. of 7 runs, 1 loop each)\n",
      "19.9 ms ± 4.23 ms per loop (mean ± std. dev. of 7 runs, 10 loops each)\n",
      "16.8 ms ± 4.31 ms per loop (mean ± std. dev. of 7 runs, 100 loops each)\n"
     ]
    }
   ],
   "source": [
    "#The assiged Data\n",
    "import concurrent.futures\n",
    "\n",
    "\n",
    "def framePopulate(key):\n",
    "    #print(\"Doing my best!!\")\n",
    "    global img\n",
    "    return[np.array([[img[y,x]] for x,y in frame1.fline[key]])]\n",
    "\n",
    "\n",
    "def populateData():\n",
    "    global img\n",
    "    data = np.empty([int(1280/2.0),0],int)\n",
    "    with concurrent.futures.ProcessPoolExecutor() as executor:\n",
    "        results = [executor.submit(framePopulate,key) for key in frame1.fline.keys()]\n",
    "        #for f in concurrent.futures.as_completed(results):\n",
    "        #    print(\"complete\")\n",
    "    return data\n",
    "                         \n",
    "def populateData2():\n",
    "    global img \n",
    "    data = np.empty([int(1280/2.0),0],int)\n",
    "    for key in frame1.fline.keys():\n",
    "        data = np.append(data,np.array([[img[y,x]] for x,y in frame1.fline[key]]),axis=1)\n",
    "    return data\n",
    "\n",
    "def populateData3():\n",
    "    global img \n",
    "    data = np.empty([int(1280/2.0),0],int)\n",
    "    data =[np.append(data,np.array([[img[y,x]] for x,y in frame1.fline[key]]),axis=1) for key in frame1.fline.keys()]\n",
    "    return data\n",
    "\n",
    "def populateData4():\n",
    "    global img \n",
    "    data = np.empty([int(1280/2.0),0],int)\n",
    "    data =[np.append(data,np.array([[img[y,x]] for x,y in frame1.fline[key]]),axis=1) for key in frame1.fline.keys()]\n",
    "    return data\n",
    "\n",
    "\n",
    "%timeit datas = populateData()\n",
    "%timeit datas2 = populateData2()\n",
    "%timeit datas1 = populateData3()"
   ]
  },
  {
   "cell_type": "code",
   "execution_count": 31,
   "id": "bf98405e",
   "metadata": {},
   "outputs": [
    {
     "name": "stdout",
     "output_type": "stream",
     "text": [
      "(640, 8)\n",
      "[]\n"
     ]
    }
   ],
   "source": [
    "print(datas2.shape)\n",
    "#print(datas)\n",
    "print(datas)"
   ]
  },
  {
   "cell_type": "code",
   "execution_count": 67,
   "id": "275c5765",
   "metadata": {
    "scrolled": false
   },
   "outputs": [
    {
     "name": "stdout",
     "output_type": "stream",
     "text": [
      "11.6 ms ± 641 µs per loop (mean ± std. dev. of 7 runs, 10 loops each)\n"
     ]
    }
   ],
   "source": [
    "#Reference view of canny runtime\n",
    "dst = cv.Canny(img, 50, 200, None, 3)"
   ]
  },
  {
   "cell_type": "code",
   "execution_count": null,
   "id": "8af400aa",
   "metadata": {},
   "outputs": [],
   "source": [
    "cv.show dst ="
   ]
  },
  {
   "cell_type": "code",
   "execution_count": 65,
   "id": "67ca7843",
   "metadata": {},
   "outputs": [
    {
     "name": "stdout",
     "output_type": "stream",
     "text": [
      "Help on built-in function Canny:\n",
      "\n",
      "Canny(...)\n",
      "    Canny(image, threshold1, threshold2[, edges[, apertureSize[, L2gradient]]]) -> edges\n",
      "    .   @brief Finds edges in an image using the Canny algorithm @cite Canny86 .\n",
      "    .   \n",
      "    .   The function finds edges in the input image and marks them in the output map edges using the\n",
      "    .   Canny algorithm. The smallest value between threshold1 and threshold2 is used for edge linking. The\n",
      "    .   largest value is used to find initial segments of strong edges. See\n",
      "    .   <http://en.wikipedia.org/wiki/Canny_edge_detector>\n",
      "    .   \n",
      "    .   @param image 8-bit input image.\n",
      "    .   @param edges output edge map; single channels 8-bit image, which has the same size as image .\n",
      "    .   @param threshold1 first threshold for the hysteresis procedure.\n",
      "    .   @param threshold2 second threshold for the hysteresis procedure.\n",
      "    .   @param apertureSize aperture size for the Sobel operator.\n",
      "    .   @param L2gradient a flag, indicating whether a more accurate \\f$L_2\\f$ norm\n",
      "    .   \\f$=\\sqrt{(dI/dx)^2 + (dI/dy)^2}\\f$ should be used to calculate the image gradient magnitude (\n",
      "    .   L2gradient=true ), or whether the default \\f$L_1\\f$ norm \\f$=|dI/dx|+|dI/dy|\\f$ is enough (\n",
      "    .   L2gradient=false ).\n",
      "    \n",
      "    \n",
      "    \n",
      "    Canny(dx, dy, threshold1, threshold2[, edges[, L2gradient]]) -> edges\n",
      "    .   \\overload\n",
      "    .   \n",
      "    .   Finds edges in an image using the Canny algorithm with custom image gradient.\n",
      "    .   \n",
      "    .   @param dx 16-bit x derivative of input image (CV_16SC1 or CV_16SC3).\n",
      "    .   @param dy 16-bit y derivative of input image (same type as dx).\n",
      "    .   @param edges output edge map; single channels 8-bit image, which has the same size as image .\n",
      "    .   @param threshold1 first threshold for the hysteresis procedure.\n",
      "    .   @param threshold2 second threshold for the hysteresis procedure.\n",
      "    .   @param L2gradient a flag, indicating whether a more accurate \\f$L_2\\f$ norm\n",
      "    .   \\f$=\\sqrt{(dI/dx)^2 + (dI/dy)^2}\\f$ should be used to calculate the image gradient magnitude (\n",
      "    .   L2gradient=true ), or whether the default \\f$L_1\\f$ norm \\f$=|dI/dx|+|dI/dy|\\f$ is enough (\n",
      "    .   L2gradient=false ).\n",
      "\n"
     ]
    }
   ],
   "source": [
    "help(cv.Canny)"
   ]
  },
  {
   "cell_type": "code",
   "execution_count": 61,
   "id": "b317dc77",
   "metadata": {},
   "outputs": [
    {
     "ename": "BrokenProcessPool",
     "evalue": "A process in the process pool was terminated abruptly while the future was running or pending.",
     "output_type": "error",
     "traceback": [
      "\u001b[1;31m---------------------------------------------------------------------------\u001b[0m",
      "\u001b[1;31mBrokenProcessPool\u001b[0m                         Traceback (most recent call last)",
      "Cell \u001b[1;32mIn [61], line 11\u001b[0m\n\u001b[0;32m      9\u001b[0m results \u001b[38;5;241m=\u001b[39m [executor\u001b[38;5;241m.\u001b[39msubmit(do_something,\u001b[38;5;241m1\u001b[39m) \u001b[38;5;28;01mfor\u001b[39;00m key \u001b[38;5;129;01min\u001b[39;00m frame1\u001b[38;5;241m.\u001b[39mfline\u001b[38;5;241m.\u001b[39mkeys()]\n\u001b[0;32m     10\u001b[0m \u001b[38;5;28;01mfor\u001b[39;00m f \u001b[38;5;129;01min\u001b[39;00m concurrent\u001b[38;5;241m.\u001b[39mfutures\u001b[38;5;241m.\u001b[39mas_completed(results):\n\u001b[1;32m---> 11\u001b[0m     \u001b[38;5;28mprint\u001b[39m(\u001b[43mf\u001b[49m\u001b[38;5;241;43m.\u001b[39;49m\u001b[43mresult\u001b[49m\u001b[43m(\u001b[49m\u001b[43m)\u001b[49m)\n",
      "File \u001b[1;32m~\\AppData\\Local\\Programs\\Python\\Python310\\lib\\concurrent\\futures\\_base.py:451\u001b[0m, in \u001b[0;36mFuture.result\u001b[1;34m(self, timeout)\u001b[0m\n\u001b[0;32m    449\u001b[0m     \u001b[38;5;28;01mraise\u001b[39;00m CancelledError()\n\u001b[0;32m    450\u001b[0m \u001b[38;5;28;01melif\u001b[39;00m \u001b[38;5;28mself\u001b[39m\u001b[38;5;241m.\u001b[39m_state \u001b[38;5;241m==\u001b[39m FINISHED:\n\u001b[1;32m--> 451\u001b[0m     \u001b[38;5;28;01mreturn\u001b[39;00m \u001b[38;5;28;43mself\u001b[39;49m\u001b[38;5;241;43m.\u001b[39;49m\u001b[43m__get_result\u001b[49m\u001b[43m(\u001b[49m\u001b[43m)\u001b[49m\n\u001b[0;32m    453\u001b[0m \u001b[38;5;28mself\u001b[39m\u001b[38;5;241m.\u001b[39m_condition\u001b[38;5;241m.\u001b[39mwait(timeout)\n\u001b[0;32m    455\u001b[0m \u001b[38;5;28;01mif\u001b[39;00m \u001b[38;5;28mself\u001b[39m\u001b[38;5;241m.\u001b[39m_state \u001b[38;5;129;01min\u001b[39;00m [CANCELLED, CANCELLED_AND_NOTIFIED]:\n",
      "File \u001b[1;32m~\\AppData\\Local\\Programs\\Python\\Python310\\lib\\concurrent\\futures\\_base.py:403\u001b[0m, in \u001b[0;36mFuture.__get_result\u001b[1;34m(self)\u001b[0m\n\u001b[0;32m    401\u001b[0m \u001b[38;5;28;01mif\u001b[39;00m \u001b[38;5;28mself\u001b[39m\u001b[38;5;241m.\u001b[39m_exception:\n\u001b[0;32m    402\u001b[0m     \u001b[38;5;28;01mtry\u001b[39;00m:\n\u001b[1;32m--> 403\u001b[0m         \u001b[38;5;28;01mraise\u001b[39;00m \u001b[38;5;28mself\u001b[39m\u001b[38;5;241m.\u001b[39m_exception\n\u001b[0;32m    404\u001b[0m     \u001b[38;5;28;01mfinally\u001b[39;00m:\n\u001b[0;32m    405\u001b[0m         \u001b[38;5;66;03m# Break a reference cycle with the exception in self._exception\u001b[39;00m\n\u001b[0;32m    406\u001b[0m         \u001b[38;5;28mself\u001b[39m \u001b[38;5;241m=\u001b[39m \u001b[38;5;28;01mNone\u001b[39;00m\n",
      "\u001b[1;31mBrokenProcessPool\u001b[0m: A process in the process pool was terminated abruptly while the future was running or pending."
     ]
    }
   ],
   "source": [
    "import concurrent.futures\n",
    "import time\n",
    "def do_something(seconds):\n",
    "    print(f'sleeping{seconds} seconds')\n",
    "    time.sleep(seconds)\n",
    "    return 'Done Sleeping'\n",
    "\n",
    "with concurrent.futures.ProcessPoolExecutor() as executor:\n",
    "        results = [executor.submit(do_something,1) for key in frame1.fline.keys()]\n",
    "        for f in concurrent.futures.as_completed(results):\n",
    "            print(f.result())"
   ]
  }
 ],
 "metadata": {
  "kernelspec": {
   "display_name": "Python 3 (ipykernel)",
   "language": "python",
   "name": "python3"
  },
  "language_info": {
   "codemirror_mode": {
    "name": "ipython",
    "version": 3
   },
   "file_extension": ".py",
   "mimetype": "text/x-python",
   "name": "python",
   "nbconvert_exporter": "python",
   "pygments_lexer": "ipython3",
   "version": "3.10.8"
  },
  "vscode": {
   "interpreter": {
    "hash": "a27fd7ad1d7f17884e8ddd65f593cd4132d5712b646b9dde398ad87602a6576d"
   }
  }
 },
 "nbformat": 4,
 "nbformat_minor": 5
}
