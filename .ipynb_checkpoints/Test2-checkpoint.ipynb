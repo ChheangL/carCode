{
 "cells": [
  {
   "cell_type": "code",
   "execution_count": 1,
   "metadata": {},
   "outputs": [],
   "source": [
    "import numpy as np\n",
    "import math\n",
    "import matplotlib.pyplot as plt\n",
    "from PIL import Image\n",
    "from pylab import *\n",
    "\n",
    "#import numpy . plot . image . math"
   ]
  },
  {
   "cell_type": "code",
   "execution_count": 5,
   "metadata": {},
   "outputs": [
    {
     "name": "stdout",
     "output_type": "stream",
     "text": [
      "right line :17, The size of frame: 320.0\n",
      "left line :17, The size of frame: 320.0\n"
     ]
    }
   ],
   "source": [
    "\"\"\"to do: FRAME\n",
    "- Create Frame of individual line\n",
    "- append all the Frame of individual line\n",
    "\"\"\"\n",
    "angle = 5\n",
    "width = 640\n",
    "height = 480\n",
    "\n",
    "\n",
    "i=1\n",
    "flr = {}\n",
    "fll = {} \n",
    "while angle*i < 90:\n",
    "    theta = angle *i\n",
    "    tan = math.tan(math.radians(theta))\n",
    "    lr = np.array([[int(width/2)-1,height-1]])\n",
    "    ll = np.array([[int(width/2)-1,height-1]])\n",
    "    for iter in range(1,int(width/2)):\n",
    "        for jter in range(1,height):\n",
    "            test = np.abs([tan-jter/iter])\n",
    "            if test[0]<0.01:\n",
    "                #print(str(iter) +' '+ str(480-jter+1))\n",
    "                lr = np.append(lr,[[int(width/2+iter-1),height-jter+1-1]],axis=0) \n",
    "                ll = np.append(ll,[[int(width/2-iter-1),height-jter+1-1]],axis=0)\n",
    "                break\n",
    "            else:\n",
    "                if not jter==height-1: continue\n",
    "                lr = np.append(lr,[[int(width/2+iter-1),lr[iter-1,1]]],axis=0)\n",
    "                ll = np.append(ll,[[int(width/2-iter-1),ll[iter-1,1]]],axis=0)\n",
    "    #print(lr.shape)\n",
    "    flr[str(i)] = lr\n",
    "    fll[str(i)] = ll\n",
    "    i = i+1\n",
    "print(\"right line :\"+str(len(flr.keys()))+', The size of frame: '+str(np.mean([len(flr[key]) for key in flr.keys()])))\n",
    "print(\"left line :\"+str(len(flr.keys()))+', The size of frame: '+str(np.mean([len(flr[key]) for key in flr.keys()])))"
   ]
  },
  {
   "cell_type": "code",
   "execution_count": null,
   "metadata": {},
   "outputs": [],
   "source": [
    "\"\"\"to do: Get Data\n",
    "- import the image\n",
    "- get the data from each line\n",
    "- append each line in on numpy array [row = 320 , col = line]\n",
    "\"\"\"\n",
    "img = np.array(Image.open('image/img2.jpg'))\n",
    "imshow(img)\n"
   ]
  },
  {
   "cell_type": "code",
   "execution_count": null,
   "metadata": {},
   "outputs": [],
   "source": [
    "\"\"\"to do: 3-sigma\n",
    "- calculate s1 and hd position\n",
    "- calculating the mean and thrid standard\n",
    "- comparing operation of the thrid standard and hd data\n",
    "- posistion the error\n",
    "- appending the posistion and get corrdinate \n",
    "\"\"\""
   ]
  },
  {
   "cell_type": "code",
   "execution_count": null,
   "metadata": {},
   "outputs": [],
   "source": [
    "\"\"\"to do: ploting \n",
    "- plot image\n",
    "- plot lines\n",
    "- plot error posistion\n",
    "- plot center\n",
    "\"\"\""
   ]
  }
 ],
 "metadata": {
  "kernelspec": {
   "display_name": "Python 3",
   "language": "python",
   "name": "python3"
  },
  "language_info": {
   "codemirror_mode": {
    "name": "ipython",
    "version": 3
   },
   "file_extension": ".py",
   "mimetype": "text/x-python",
   "name": "python",
   "nbconvert_exporter": "python",
   "pygments_lexer": "ipython3",
   "version": "3.8.5"
  }
 },
 "nbformat": 4,
 "nbformat_minor": 2
}
