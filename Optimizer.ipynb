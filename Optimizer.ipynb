{
 "cells": [
  {
   "cell_type": "code",
   "execution_count": 1,
   "id": "a2a7bbe8",
   "metadata": {},
   "outputs": [],
   "source": [
    "#Importing file\n",
    "import numpy as np\n",
    "import math \n",
    "from ImageFrame import Frame\n",
    "from EdgeFinderV2 import EdgeFinder as ef\n",
    "#from picamera import PiCamera\n"
   ]
  },
  {
   "cell_type": "code",
   "execution_count": 2,
   "id": "4fd122a1",
   "metadata": {},
   "outputs": [
    {
     "name": "stdout",
     "output_type": "stream",
     "text": [
      "loaded image\n"
     ]
    },
    {
     "data": {
      "text/plain": [
       "(720, 1280)"
      ]
     },
     "execution_count": 2,
     "metadata": {},
     "output_type": "execute_result"
    }
   ],
   "source": [
    "#for captureing image or get the image\n",
    "import cv2 as cv\n",
    "filename = \"TestingImage/Image5.jpg\"\n",
    "img = cv.imread(filename)\n",
    "img = img[:,:,0]\n",
    "print(\"loaded image\")\n",
    "img.shape #image with row of 720 and 1280 column and 3 channels"
   ]
  },
  {
   "cell_type": "code",
   "execution_count": 3,
   "id": "1ec9bf01",
   "metadata": {},
   "outputs": [
    {
     "name": "stdout",
     "output_type": "stream",
     "text": [
      "CPU times: total: 0 ns\n",
      "Wall time: 0 ns\n",
      "load CVS file successfully\n"
     ]
    },
    {
     "data": {
      "text/plain": [
       "(640, 2)"
      ]
     },
     "execution_count": 3,
     "metadata": {},
     "output_type": "execute_result"
    }
   ],
   "source": [
    "#preparing the frame\n",
    "%time \n",
    "\n",
    "frame1 = Frame(1280,720,10)\n",
    "frame1.fline['1'].shape"
   ]
  },
  {
   "cell_type": "code",
   "execution_count": 5,
   "id": "12aaf193",
   "metadata": {},
   "outputs": [
    {
     "name": "stdout",
     "output_type": "stream",
     "text": [
      "44.5 ms ± 12.5 ms per loop (mean ± std. dev. of 7 runs, 10 loops each)\n"
     ]
    }
   ],
   "source": [
    "def populateData5():\n",
    "    global img \n",
    "    data = []\n",
    "    #data =[np.append(data,np.array([[img[y,x]] for x,y in frame1.fline[key]]),axis=1) for key in frame1.fline.keys()]\n",
    "    data=[[img[y,x] for x,y in frame1.fline[key]] for key in frame1.fline.keys()] \n",
    "    return data\n",
    "%timeit datas = populateData5()\n",
    "#len(datas)"
   ]
  },
  {
   "cell_type": "code",
   "execution_count": 9,
   "id": "96c2a794",
   "metadata": {
    "scrolled": true
   },
   "outputs": [
    {
     "name": "stdout",
     "output_type": "stream",
     "text": [
      "10.5 ms ± 191 µs per loop (mean ± std. dev. of 7 runs, 100 loops each)\n",
      "10.4 ms ± 368 µs per loop (mean ± std. dev. of 7 runs, 100 loops each)\n"
     ]
    }
   ],
   "source": [
    "#The assiged Data\n",
    "import concurrent.futures\n",
    "\n",
    "\n",
    "def framePopulate(key):\n",
    "    #print(\"Doing my best!!\")\n",
    "    global img\n",
    "    return[np.array([[img[y,x]] for x,y in frame1.fline[key]])]\n",
    "\n",
    "\n",
    "def populateData():\n",
    "    global img\n",
    "    data = np.empty([int(1280/2.0),0],int)\n",
    "    with concurrent.futures.ProcessPoolExecutor() as executor:\n",
    "        results = [executor.submit(framePopulate,key) for key in frame1.fline.keys()]\n",
    "        #for f in concurrent.futures.as_completed(results):\n",
    "        #    print(\"complete\")\n",
    "    return data\n",
    "                         \n",
    "def populateData2():\n",
    "    global img \n",
    "    data = np.empty([int(1280/2.0),0],int)\n",
    "    for key in frame1.fline.keys():\n",
    "        data = np.append(data,np.array([[img[y,x]] for x,y in frame1.fline[key]]),axis=1)\n",
    "    return data\n",
    "\n",
    "def populateData3():\n",
    "    global img \n",
    "    data = np.empty([int(1280/2.0),0],int)\n",
    "    data =[np.append(data,np.array([[img[y,x]] for x,y in frame1.fline[key]]),axis=1) for key in frame1.fline.keys()]\n",
    "    return data\n",
    "\n",
    "def populateData4():\n",
    "    global img \n",
    "    data = np.empty([int(1280/2.0),0],int)\n",
    "    data =[np.append(data,np.array([[img[y,x]] for x,y in frame1.fline[key]]),axis=1) for key in frame1.fline.keys()]\n",
    "    return data\n",
    "\n",
    "\n",
    "##%timeit datas = populateData()\n",
    "%timeit datas2 = populateData2()\n",
    "%timeit datas3 = populateData3()"
   ]
  },
  {
   "cell_type": "code",
   "execution_count": 8,
   "id": "275c5765",
   "metadata": {
    "scrolled": false
   },
   "outputs": [
    {
     "name": "stdout",
     "output_type": "stream",
     "text": [
      "5.31 ms ± 644 µs per loop (mean ± std. dev. of 7 runs, 100 loops each)\n"
     ]
    }
   ],
   "source": [
    "#Reference view of canny runtime\n",
    "%timeit dst = cv.Canny(img, 100, 500, None, 3)"
   ]
  },
  {
   "cell_type": "code",
   "execution_count": null,
   "id": "405462db",
   "metadata": {},
   "outputs": [],
   "source": [
    "cv.imshow(\"Source\", dst)\n",
    "cv.imshow(\"original\",img)\n",
    "cv.waitKey()\n"
   ]
  },
  {
   "cell_type": "code",
   "execution_count": null,
   "id": "8f6db84c",
   "metadata": {},
   "outputs": [],
   "source": [
    "help(cv.Canny)"
   ]
  },
  {
   "cell_type": "code",
   "execution_count": 5,
   "id": "147c58cb",
   "metadata": {},
   "outputs": [
    {
     "ename": "BrokenProcessPool",
     "evalue": "A process in the process pool was terminated abruptly while the future was running or pending.",
     "output_type": "error",
     "traceback": [
      "\u001b[1;31m---------------------------------------------------------------------------\u001b[0m",
      "\u001b[1;31mBrokenProcessPool\u001b[0m                         Traceback (most recent call last)",
      "Cell \u001b[1;32mIn [5], line 11\u001b[0m\n\u001b[0;32m      9\u001b[0m results \u001b[38;5;241m=\u001b[39m [executor\u001b[38;5;241m.\u001b[39msubmit(do_something,\u001b[38;5;241m1\u001b[39m) \u001b[38;5;28;01mfor\u001b[39;00m num \u001b[38;5;129;01min\u001b[39;00m \u001b[38;5;28mrange\u001b[39m(\u001b[38;5;241m1\u001b[39m,\u001b[38;5;241m10\u001b[39m)]\n\u001b[0;32m     10\u001b[0m \u001b[38;5;28;01mfor\u001b[39;00m f \u001b[38;5;129;01min\u001b[39;00m concurrent\u001b[38;5;241m.\u001b[39mfutures\u001b[38;5;241m.\u001b[39mas_completed(results):\n\u001b[1;32m---> 11\u001b[0m     \u001b[38;5;28mprint\u001b[39m(\u001b[43mf\u001b[49m\u001b[38;5;241;43m.\u001b[39;49m\u001b[43mresult\u001b[49m\u001b[43m(\u001b[49m\u001b[43m)\u001b[49m)\n",
      "File \u001b[1;32m~\\AppData\\Local\\Programs\\Python\\Python310\\lib\\concurrent\\futures\\_base.py:451\u001b[0m, in \u001b[0;36mFuture.result\u001b[1;34m(self, timeout)\u001b[0m\n\u001b[0;32m    449\u001b[0m     \u001b[38;5;28;01mraise\u001b[39;00m CancelledError()\n\u001b[0;32m    450\u001b[0m \u001b[38;5;28;01melif\u001b[39;00m \u001b[38;5;28mself\u001b[39m\u001b[38;5;241m.\u001b[39m_state \u001b[38;5;241m==\u001b[39m FINISHED:\n\u001b[1;32m--> 451\u001b[0m     \u001b[38;5;28;01mreturn\u001b[39;00m \u001b[38;5;28;43mself\u001b[39;49m\u001b[38;5;241;43m.\u001b[39;49m\u001b[43m__get_result\u001b[49m\u001b[43m(\u001b[49m\u001b[43m)\u001b[49m\n\u001b[0;32m    453\u001b[0m \u001b[38;5;28mself\u001b[39m\u001b[38;5;241m.\u001b[39m_condition\u001b[38;5;241m.\u001b[39mwait(timeout)\n\u001b[0;32m    455\u001b[0m \u001b[38;5;28;01mif\u001b[39;00m \u001b[38;5;28mself\u001b[39m\u001b[38;5;241m.\u001b[39m_state \u001b[38;5;129;01min\u001b[39;00m [CANCELLED, CANCELLED_AND_NOTIFIED]:\n",
      "File \u001b[1;32m~\\AppData\\Local\\Programs\\Python\\Python310\\lib\\concurrent\\futures\\_base.py:403\u001b[0m, in \u001b[0;36mFuture.__get_result\u001b[1;34m(self)\u001b[0m\n\u001b[0;32m    401\u001b[0m \u001b[38;5;28;01mif\u001b[39;00m \u001b[38;5;28mself\u001b[39m\u001b[38;5;241m.\u001b[39m_exception:\n\u001b[0;32m    402\u001b[0m     \u001b[38;5;28;01mtry\u001b[39;00m:\n\u001b[1;32m--> 403\u001b[0m         \u001b[38;5;28;01mraise\u001b[39;00m \u001b[38;5;28mself\u001b[39m\u001b[38;5;241m.\u001b[39m_exception\n\u001b[0;32m    404\u001b[0m     \u001b[38;5;28;01mfinally\u001b[39;00m:\n\u001b[0;32m    405\u001b[0m         \u001b[38;5;66;03m# Break a reference cycle with the exception in self._exception\u001b[39;00m\n\u001b[0;32m    406\u001b[0m         \u001b[38;5;28mself\u001b[39m \u001b[38;5;241m=\u001b[39m \u001b[38;5;28;01mNone\u001b[39;00m\n",
      "\u001b[1;31mBrokenProcessPool\u001b[0m: A process in the process pool was terminated abruptly while the future was running or pending."
     ]
    }
   ],
   "source": [
    "import concurrent.futures\n",
    "import time\n",
    "def do_something(seconds):\n",
    "    print('sleeping seconds')\n",
    "    time.sleep(seconds)\n",
    "    return 'Done Sleeping'\n",
    "if __name__ == \"__main__\":\n",
    "    with concurrent.futures.ProcessPoolExecutor() as executor:\n",
    "            results = [executor.submit(do_something,1) for num in range(1,10)]\n",
    "            for f in concurrent.futures.as_completed(results):\n",
    "                print(f.result())"
   ]
  },
  {
   "cell_type": "code",
   "execution_count": 10,
   "id": "6b072df5",
   "metadata": {},
   "outputs": [
    {
     "name": "stdout",
     "output_type": "stream",
     "text": [
      "False\n",
      "True\n"
     ]
    },
    {
     "ename": "BrokenProcessPool",
     "evalue": "A process in the process pool was terminated abruptly while the future was running or pending.",
     "output_type": "error",
     "traceback": [
      "\u001b[1;31m---------------------------------------------------------------------------\u001b[0m",
      "\u001b[1;31mBrokenProcessPool\u001b[0m                         Traceback (most recent call last)",
      "Cell \u001b[1;32mIn [10], line 15\u001b[0m\n\u001b[0;32m     13\u001b[0m     \u001b[38;5;28mprint\u001b[39m(future\u001b[38;5;241m.\u001b[39mresult())\n\u001b[0;32m     14\u001b[0m \u001b[38;5;28;01mif\u001b[39;00m \u001b[38;5;18m__name__\u001b[39m \u001b[38;5;241m==\u001b[39m \u001b[38;5;124m'\u001b[39m\u001b[38;5;124m__main__\u001b[39m\u001b[38;5;124m'\u001b[39m:\n\u001b[1;32m---> 15\u001b[0m     \u001b[43mmain\u001b[49m\u001b[43m(\u001b[49m\u001b[43m)\u001b[49m\n",
      "Cell \u001b[1;32mIn [10], line 13\u001b[0m, in \u001b[0;36mmain\u001b[1;34m()\u001b[0m\n\u001b[0;32m     11\u001b[0m sleep(\u001b[38;5;241m2\u001b[39m)\n\u001b[0;32m     12\u001b[0m \u001b[38;5;28mprint\u001b[39m(future\u001b[38;5;241m.\u001b[39mdone())\n\u001b[1;32m---> 13\u001b[0m \u001b[38;5;28mprint\u001b[39m(\u001b[43mfuture\u001b[49m\u001b[38;5;241;43m.\u001b[39;49m\u001b[43mresult\u001b[49m\u001b[43m(\u001b[49m\u001b[43m)\u001b[49m)\n",
      "File \u001b[1;32m~\\AppData\\Local\\Programs\\Python\\Python310\\lib\\concurrent\\futures\\_base.py:451\u001b[0m, in \u001b[0;36mFuture.result\u001b[1;34m(self, timeout)\u001b[0m\n\u001b[0;32m    449\u001b[0m     \u001b[38;5;28;01mraise\u001b[39;00m CancelledError()\n\u001b[0;32m    450\u001b[0m \u001b[38;5;28;01melif\u001b[39;00m \u001b[38;5;28mself\u001b[39m\u001b[38;5;241m.\u001b[39m_state \u001b[38;5;241m==\u001b[39m FINISHED:\n\u001b[1;32m--> 451\u001b[0m     \u001b[38;5;28;01mreturn\u001b[39;00m \u001b[38;5;28;43mself\u001b[39;49m\u001b[38;5;241;43m.\u001b[39;49m\u001b[43m__get_result\u001b[49m\u001b[43m(\u001b[49m\u001b[43m)\u001b[49m\n\u001b[0;32m    453\u001b[0m \u001b[38;5;28mself\u001b[39m\u001b[38;5;241m.\u001b[39m_condition\u001b[38;5;241m.\u001b[39mwait(timeout)\n\u001b[0;32m    455\u001b[0m \u001b[38;5;28;01mif\u001b[39;00m \u001b[38;5;28mself\u001b[39m\u001b[38;5;241m.\u001b[39m_state \u001b[38;5;129;01min\u001b[39;00m [CANCELLED, CANCELLED_AND_NOTIFIED]:\n",
      "File \u001b[1;32m~\\AppData\\Local\\Programs\\Python\\Python310\\lib\\concurrent\\futures\\_base.py:403\u001b[0m, in \u001b[0;36mFuture.__get_result\u001b[1;34m(self)\u001b[0m\n\u001b[0;32m    401\u001b[0m \u001b[38;5;28;01mif\u001b[39;00m \u001b[38;5;28mself\u001b[39m\u001b[38;5;241m.\u001b[39m_exception:\n\u001b[0;32m    402\u001b[0m     \u001b[38;5;28;01mtry\u001b[39;00m:\n\u001b[1;32m--> 403\u001b[0m         \u001b[38;5;28;01mraise\u001b[39;00m \u001b[38;5;28mself\u001b[39m\u001b[38;5;241m.\u001b[39m_exception\n\u001b[0;32m    404\u001b[0m     \u001b[38;5;28;01mfinally\u001b[39;00m:\n\u001b[0;32m    405\u001b[0m         \u001b[38;5;66;03m# Break a reference cycle with the exception in self._exception\u001b[39;00m\n\u001b[0;32m    406\u001b[0m         \u001b[38;5;28mself\u001b[39m \u001b[38;5;241m=\u001b[39m \u001b[38;5;28;01mNone\u001b[39;00m\n",
      "\u001b[1;31mBrokenProcessPool\u001b[0m: A process in the process pool was terminated abruptly while the future was running or pending."
     ]
    }
   ],
   "source": [
    "from concurrent.futures import ProcessPoolExecutor\n",
    "from time import sleep\n",
    "def task(message):\n",
    "    sleep(2)\n",
    "    return message\n",
    "\n",
    "def main():\n",
    "    executor = ProcessPoolExecutor(5)\n",
    "    future = executor.submit(task, (\"Completed\"))\n",
    "    print(future.done())\n",
    "    sleep(2)\n",
    "    print(future.done())\n",
    "    print(future.result())\n",
    "if __name__ == '__main__':\n",
    "    main()"
   ]
  }
 ],
 "metadata": {
  "kernelspec": {
   "display_name": "Python 3.10.8 64-bit",
   "language": "python",
   "name": "python3"
  },
  "language_info": {
   "codemirror_mode": {
    "name": "ipython",
    "version": 3
   },
   "file_extension": ".py",
   "mimetype": "text/x-python",
   "name": "python",
   "nbconvert_exporter": "python",
   "pygments_lexer": "ipython3",
   "version": "3.10.8"
  },
  "vscode": {
   "interpreter": {
    "hash": "fb6640f683fe3c2e0167d4fdf8a524550be8862d3e31263a3a7301ff5230fda0"
   }
  }
 },
 "nbformat": 4,
 "nbformat_minor": 5
}
