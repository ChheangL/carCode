{
 "cells": [
  {
   "cell_type": "code",
   "execution_count": 1,
   "id": "a2a7bbe8",
   "metadata": {},
   "outputs": [],
   "source": [
    "#Importing file\n",
    "import numpy as np\n",
    "import math \n",
    "from ImageFrame import Frame\n",
    "from EdgeFinderV2 import EdgeFinder as ef\n",
    "#from picamera import PiCamera\n"
   ]
  },
  {
   "cell_type": "code",
   "execution_count": 6,
   "id": "4fd122a1",
   "metadata": {},
   "outputs": [
    {
     "name": "stdout",
     "output_type": "stream",
     "text": [
      "loaded image\n"
     ]
    },
    {
     "data": {
      "text/plain": [
       "(720, 1280)"
      ]
     },
     "execution_count": 6,
     "metadata": {},
     "output_type": "execute_result"
    }
   ],
   "source": [
    "#for captureing image or get the image\n",
    "import cv2 as cv\n",
    "filename = \"TestingImage/Image5.jpg\"\n",
    "img = cv.imread(filename)\n",
    "img = img[:,:,0]\n",
    "print(\"loaded image\")\n",
    "img.shape #image with row of 720 and 1280 column and 3 channels"
   ]
  },
  {
   "cell_type": "code",
   "execution_count": 3,
   "id": "1ec9bf01",
   "metadata": {},
   "outputs": [
    {
     "name": "stdout",
     "output_type": "stream",
     "text": [
      "CPU times: total: 0 ns\n",
      "Wall time: 0 ns\n",
      "load CVS file successfully\n"
     ]
    },
    {
     "data": {
      "text/plain": [
       "(640, 2)"
      ]
     },
     "execution_count": 3,
     "metadata": {},
     "output_type": "execute_result"
    }
   ],
   "source": [
    "#preparing the frame\n",
    "%time\n",
    "frame1 = Frame(1280,720,10)\n",
    "frame1.fline['1'].shape"
   ]
  },
  {
   "cell_type": "code",
   "execution_count": 10,
   "id": "96c2a794",
   "metadata": {},
   "outputs": [
    {
     "name": "stdout",
     "output_type": "stream",
     "text": [
      "288 ms ± 15.9 ms per loop (mean ± std. dev. of 7 runs, 1 loop each)\n",
      "3.66 ms ± 32.2 µs per loop (mean ± std. dev. of 7 runs, 100 loops each)\n"
     ]
    }
   ],
   "source": [
    "#The assiged Data\n",
    "import concurrent.futures\n",
    "\n",
    "\n",
    "def framePopulate(key):\n",
    "    global img\n",
    "    return [np.array([[img[y,x]] for x,y in frame1.fline[key]])]\n",
    "\n",
    "\n",
    "def populateData():\n",
    "    global img \n",
    "    data = np.empty([int(1280/2.0),0],int)\n",
    "    with concurrent.futures.ProcessPoolExecutor() as executor:\n",
    "        results = [executor.submit(framePopulate,key) for key in frame1.fline.keys()]\n",
    "    return data\n",
    "\n",
    "                         \n",
    "\n",
    "                         \n",
    "def populateData2():\n",
    "    global img \n",
    "    data = np.empty([int(1280/2.0),0],int)\n",
    "    for key in frame1.fline.keys():\n",
    "        data = np.append(data,np.array([[img[y,x]] for x,y in frame1.fline[key]]),axis=1)\n",
    "    return data\n",
    "\n",
    "def populateData3():\n",
    "    global img \n",
    "    data = np.empty([int(1280/2.0),0],int)\n",
    "    for key in frame1.fline.keys():\n",
    "        data = np.append(data,np.array([[img[y,x]] for x,y in frame1.fline[key]]),axis=1)\n",
    "    return data\n",
    "\n",
    "%timeit datas = populateData()\n",
    "%timeit datas1 = populateData2()"
   ]
  },
  {
   "cell_type": "code",
   "execution_count": 5,
   "id": "275c5765",
   "metadata": {},
   "outputs": [
    {
     "name": "stdout",
     "output_type": "stream",
     "text": [
      "1.84 ms ± 45.2 µs per loop (mean ± std. dev. of 7 runs, 100 loops each)\n"
     ]
    }
   ],
   "source": [
    "#Reference view of canny runtime\n",
    "%timeit dst = cv.Canny(img, 50, 200, None, 3)"
   ]
  }
 ],
 "metadata": {
  "kernelspec": {
   "display_name": "Python 3 (ipykernel)",
   "language": "python",
   "name": "python3"
  },
  "language_info": {
   "codemirror_mode": {
    "name": "ipython",
    "version": 3
   },
   "file_extension": ".py",
   "mimetype": "text/x-python",
   "name": "python",
   "nbconvert_exporter": "python",
   "pygments_lexer": "ipython3",
   "version": "3.9.13"
  }
 },
 "nbformat": 4,
 "nbformat_minor": 5
}
