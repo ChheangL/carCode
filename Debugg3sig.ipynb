{
 "cells": [
  {
   "cell_type": "code",
   "execution_count": 1,
   "metadata": {},
   "outputs": [],
   "source": [
    "from PIL import Image,ImageOps,ImageFilter\n",
    "from ImageFrame import Frame\n",
    "import timeit as ti\n",
    "import numpy as np\n",
    "import matplotlib.pyplot as plt\n",
    "from pylab import *\n",
    "from EdgeFinderV1 import EdgeFinder as ef "
   ]
  },
  {
   "cell_type": "code",
   "execution_count": 2,
   "metadata": {},
   "outputs": [
    {
     "name": "stdout",
     "output_type": "stream",
     "text": [
      "4\n"
     ]
    }
   ],
   "source": [
    "from auto_drive_functions import *\n",
    "array1 =  np.array([[358., 376.],[154. , 24.],[342., 356.],[280., 252.]]) #image22\n",
    "array2 = np.array([[139., 414.],[154. ,384.],[160., 346.],[173., 305.]]) #image23\n",
    "array3 = np.array([[425. ,392.],[226. ,401.],[420., 361.],[195., 331.]]) #image21\n",
    "array4 = np.array([[139. ,414.],[145. ,379.],[160., 346.],[220.,361.]]) #image24\n",
    "array5 = np.array([[609.,429.],[ 58.,434.],[597.,379.],[ 89. ,396.]]) #image25\n",
    "array6 = np.array([[445. ,331.],[205. ,343.],[428. ,293.],[203.,277.]]) #image29\n",
    "print(len(array1[:,0]))"
   ]
  },
  {
   "cell_type": "code",
   "execution_count": 8,
   "metadata": {},
   "outputs": [
    {
     "name": "stdout",
     "output_type": "stream",
     "text": [
      "31.400636936215164, 76.55716818169282\n",
      "31.400636936215164, 76.55716818169282\n",
      "[ -5. -31.]\n",
      "[-31. -70.]\n",
      "0.254165671047139\n"
     ]
    },
    {
     "data": {
      "text/plain": [
       "'left'"
      ]
     },
     "execution_count": 8,
     "metadata": {},
     "output_type": "execute_result"
    }
   ],
   "source": [
    "vector_check(array3)"
   ]
  },
  {
   "cell_type": "code",
   "execution_count": 4,
   "metadata": {},
   "outputs": [
    {
     "name": "stdout",
     "output_type": "stream",
     "text": [
      "load CVS file successfully\n"
     ]
    }
   ],
   "source": [
    "frame = Frame(640,480,10)"
   ]
  },
  {
   "cell_type": "code",
   "execution_count": 5,
   "metadata": {},
   "outputs": [
    {
     "ename": "AttributeError",
     "evalue": "'EdgeFinder' object has no attribute 'plot_data'",
     "output_type": "error",
     "traceback": [
      "\u001b[1;31m---------------------------------------------------------------------------\u001b[0m",
      "\u001b[1;31mAttributeError\u001b[0m                            Traceback (most recent call last)",
      "\u001b[1;32mC:\\Users\\CHHEAN~1\\AppData\\Local\\Temp/ipykernel_27492/3683345789.py\u001b[0m in \u001b[0;36m<module>\u001b[1;34m\u001b[0m\n\u001b[0;32m      3\u001b[0m \u001b[1;32mfor\u001b[0m \u001b[0mkey\u001b[0m \u001b[1;32min\u001b[0m \u001b[0mdata\u001b[0m\u001b[1;33m.\u001b[0m\u001b[0mkeys\u001b[0m\u001b[1;33m(\u001b[0m\u001b[1;33m)\u001b[0m\u001b[1;33m:\u001b[0m\u001b[1;33m\u001b[0m\u001b[1;33m\u001b[0m\u001b[0m\n\u001b[0;32m      4\u001b[0m     \u001b[0mline1\u001b[0m \u001b[1;33m=\u001b[0m \u001b[0mef\u001b[0m\u001b[1;33m(\u001b[0m\u001b[1;36m100\u001b[0m\u001b[1;33m,\u001b[0m\u001b[1;36m5\u001b[0m\u001b[1;33m,\u001b[0m\u001b[0mdata\u001b[0m\u001b[1;33m[\u001b[0m\u001b[0mkey\u001b[0m\u001b[1;33m]\u001b[0m\u001b[1;33m,\u001b[0m\u001b[0msense\u001b[0m\u001b[1;33m=\u001b[0m \u001b[1;36m2\u001b[0m\u001b[1;33m)\u001b[0m\u001b[1;33m\u001b[0m\u001b[1;33m\u001b[0m\u001b[0m\n\u001b[1;32m----> 5\u001b[1;33m     \u001b[0mline1\u001b[0m\u001b[1;33m.\u001b[0m\u001b[0mplot_data\u001b[0m\u001b[1;33m(\u001b[0m\u001b[0mlines\u001b[0m\u001b[1;33m=\u001b[0m\u001b[0mkey\u001b[0m\u001b[1;33m)\u001b[0m\u001b[1;33m\u001b[0m\u001b[1;33m\u001b[0m\u001b[0m\n\u001b[0m",
      "\u001b[1;31mAttributeError\u001b[0m: 'EdgeFinder' object has no attribute 'plot_data'"
     ]
    }
   ],
   "source": [
    "img = np.array(Image.open('image/img31.jpg'))\n",
    "data = frame.get_data(img,2)\n",
    "for key in data.keys():\n",
    "    line1 = ef(100,5,data[key],sense= 2)\n",
    "    line1.plot_data(lines=key)"
   ]
  }
 ],
 "metadata": {
  "interpreter": {
   "hash": "654089ed2cadb9c8f4d6742690aa9e73f00e3633afa5356962010a9c4120675a"
  },
  "kernelspec": {
   "display_name": "Python 3.9.7 ('base')",
   "language": "python",
   "name": "python3"
  },
  "language_info": {
   "codemirror_mode": {
    "name": "ipython",
    "version": 3
   },
   "file_extension": ".py",
   "mimetype": "text/x-python",
   "name": "python",
   "nbconvert_exporter": "python",
   "pygments_lexer": "ipython3",
   "version": "3.9.7"
  },
  "orig_nbformat": 4
 },
 "nbformat": 4,
 "nbformat_minor": 2
}
